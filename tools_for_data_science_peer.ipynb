{
 "cells": [
  {
   "cell_type": "markdown",
   "id": "171b207d-a906-49fa-bd8f-e5318f1b620d",
   "metadata": {
    "tags": []
   },
   "source": [
    "# My Jupyter Notebook on IBM Watson Studio"
   ]
  },
  {
   "cell_type": "markdown",
   "id": "eabad978-aac7-4057-8b75-15cd93a999e0",
   "metadata": {},
   "source": [
    "**Sukarn Pahuja**\n",
    "\n",
    "Current Occupation : Student"
   ]
  },
  {
   "cell_type": "markdown",
   "id": "7286bbb6-a259-4f55-9b7b-991836d9224f",
   "metadata": {},
   "source": [
    "*I am interested in data science because I love playing with data and extracting meaningful insights out of it.*"
   ]
  },
  {
   "cell_type": "markdown",
   "id": "849ee25e-d904-45ab-94c4-6e5e21cb5b29",
   "metadata": {},
   "source": [
    "### The following code tests if a number is even or odd"
   ]
  },
  {
   "cell_type": "code",
   "execution_count": 7,
   "id": "0c4be762-631b-4e68-bc94-02e5488e5f0c",
   "metadata": {},
   "outputs": [
    {
     "name": "stdout",
     "output_type": "stream",
     "text": [
      "Odd\n"
     ]
    }
   ],
   "source": [
    "def odd_even(num):\n",
    "    if num==0:\n",
    "        print(\"Neither even nor odd\")\n",
    "    if num%2==0:\n",
    "        print(\"Even\")\n",
    "    else:\n",
    "        print(\"Odd\")\n",
    "        \n",
    "odd_even(23)"
   ]
  },
  {
   "cell_type": "markdown",
   "id": "7dc404ee-f2d2-49b1-aea8-b15892f19f2f",
   "metadata": {},
   "source": [
    "Strikethrough : ~~Scratch this.~~\n",
    "\n",
    "Code/Syntax Highlighting\n",
    "```python\n",
    "x = \"Code/Syntax in Python Highlighting\"\n",
    "print x\n",
    "```\n",
    "\n",
    "Bulleted List:\n",
    "\n",
    "+ A\n",
    "+ B\n",
    "+ C\n",
    "+ D\n",
    "+ E"
   ]
  },
  {
   "cell_type": "code",
   "execution_count": null,
   "id": "f6f70ec5-c74a-4502-9b33-d55f6bae7979",
   "metadata": {},
   "outputs": [],
   "source": []
  }
 ],
 "metadata": {
  "kernelspec": {
   "display_name": "Python",
   "language": "python",
   "name": "conda-env-python-py"
  },
  "language_info": {
   "codemirror_mode": {
    "name": "ipython",
    "version": 3
   },
   "file_extension": ".py",
   "mimetype": "text/x-python",
   "name": "python",
   "nbconvert_exporter": "python",
   "pygments_lexer": "ipython3",
   "version": "3.7.12"
  }
 },
 "nbformat": 4,
 "nbformat_minor": 5
}
